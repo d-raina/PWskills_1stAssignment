{
 "cells": [
  {
   "cell_type": "code",
   "execution_count": 1,
   "id": "6a53a0f8-46c1-46fd-87f0-3cd5bdf92bfe",
   "metadata": {},
   "outputs": [],
   "source": [
    "# Assignment 1"
   ]
  },
  {
   "cell_type": "raw",
   "id": "6f481c4e-2bd0-4ece-8aa9-b13ebd47d9a6",
   "metadata": {},
   "source": [
    "Q1:- Explain the key features of Python that make it a popular choice for programming?\n",
    "1. Easy to Code:- It is very easy to code in Python language unlike any other langauge.\n",
    "2. Easy to Read:- The easy and understandable syntax of Python helps the user to understand it very easily.\n",
    "3. Numerous Libraries:- Python consist of a numerous number of libraries which provides it an edge over the other programmimg languages.\n",
    "4. Interpreted Langauge:- Python is an interpreted language, therefore it helps to track the errors in the same line other than the RUN TIME.\n",
    "5. High Level Language \n",
    "6. It is very user friendly for developers as well.\n",
    "7. Python also supports the OOPS(Object Oriented Programmimg system) concepts like classes, objects, encapsulation etc.\n",
    "8. It is widely used in the industries and used in all the recent technologies such as AI, Machine Learning etc.\n",
    "9. Easily integrate with other tools as well such as SQL and Power BI.\n",
    "10. It has a huge active community and in the industries."
   ]
  },
  {
   "cell_type": "code",
   "execution_count": 2,
   "id": "a17b6f57-6bd1-4433-b5f5-d862ef2b16c6",
   "metadata": {},
   "outputs": [
    {
     "name": "stdout",
     "output_type": "stream",
     "text": [
      "Hello World\n"
     ]
    }
   ],
   "source": [
    "#Syntax of Python print statement\n",
    "print(\"Hello World\")\n"
   ]
  },
  {
   "cell_type": "code",
   "execution_count": 3,
   "id": "1c4452e1-184b-49b0-ad8b-03c0b6063a28",
   "metadata": {},
   "outputs": [
    {
     "data": {
      "text/plain": [
       "2"
      ]
     },
     "execution_count": 3,
     "metadata": {},
     "output_type": "execute_result"
    }
   ],
   "source": [
    "# Variable Declaration in Python\n",
    "a=2  # Assigned the value 2 in variable a.\n",
    "a"
   ]
  },
  {
   "cell_type": "raw",
   "id": "bfce86c8-533b-4c96-a276-4c4b6269ac5d",
   "metadata": {},
   "source": [
    "Question 2:- Describe the role of predefined keywords in Python and provide examples of how they are used in a\n",
    "program?"
   ]
  },
  {
   "cell_type": "raw",
   "id": "c4b9fe1a-4462-47b0-aac2-cfae04da59d2",
   "metadata": {},
   "source": [
    "The keywords are also known as predefined words that hold a specific functionality and meaning of purpose.\n",
    "There are different keywords in Python and the list is as shown below."
   ]
  },
  {
   "cell_type": "code",
   "execution_count": 4,
   "id": "ea349f0f-d60b-472c-9b78-7e79e49839ff",
   "metadata": {},
   "outputs": [
    {
     "name": "stdout",
     "output_type": "stream",
     "text": [
      "\n",
      "Here is a list of the Python keywords.  Enter any keyword to get more help.\n",
      "\n",
      "False               class               from                or\n",
      "None                continue            global              pass\n",
      "True                def                 if                  raise\n",
      "and                 del                 import              return\n",
      "as                  elif                in                  try\n",
      "assert              else                is                  while\n",
      "async               except              lambda              with\n",
      "await               finally             nonlocal            yield\n",
      "break               for                 not                 \n",
      "\n"
     ]
    }
   ],
   "source": [
    "help(\"keywords\")"
   ]
  },
  {
   "cell_type": "raw",
   "id": "26b2c196-3ce0-42b0-8f9a-014e039b1d4a",
   "metadata": {},
   "source": [
    "Roles:-\n",
    "1. Usage in control flow statements such as \"if\",\"else\",\"elif\",\"for\",\"while\",\"break\",\"continue\" and \"pass\".\n",
    "2. Used to define a function using def keyword.\n",
    "3. Used as membership operators using \"in\" and \"not in\" keywords."
   ]
  },
  {
   "cell_type": "code",
   "execution_count": 8,
   "id": "3f2f1c74-8de0-49e9-8c45-c3ac032c5635",
   "metadata": {},
   "outputs": [
    {
     "ename": "TypeError",
     "evalue": "'str' object is not callable",
     "output_type": "error",
     "traceback": [
      "\u001b[0;31m---------------------------------------------------------------------------\u001b[0m",
      "\u001b[0;31mTypeError\u001b[0m                                 Traceback (most recent call last)",
      "Cell \u001b[0;32mIn[8], line 3\u001b[0m\n\u001b[1;32m      1\u001b[0m \u001b[38;5;28mprint\u001b[39m\u001b[38;5;241m=\u001b[39m \u001b[38;5;124m\"\u001b[39m\u001b[38;5;124mHello\u001b[39m\u001b[38;5;124m\"\u001b[39m\n\u001b[1;32m      2\u001b[0m \u001b[38;5;28;01mif\u001b[39;00m \u001b[38;5;28mprint\u001b[39m\u001b[38;5;241m==\u001b[39m\u001b[38;5;124m\"\u001b[39m\u001b[38;5;124mHello\u001b[39m\u001b[38;5;124m\"\u001b[39m:\n\u001b[0;32m----> 3\u001b[0m     \u001b[38;5;28;43mprint\u001b[39;49m\u001b[43m(\u001b[49m\u001b[38;5;28;43mprint\u001b[39;49m\u001b[43m)\u001b[49m\n",
      "\u001b[0;31mTypeError\u001b[0m: 'str' object is not callable"
     ]
    }
   ],
   "source": [
    "print= \"Hello\"\n",
    "if print==\"Hello\":\n",
    "    print(print)"
   ]
  },
  {
   "cell_type": "raw",
   "id": "8aecfe4f-ea94-458c-b9c9-8b1695dbe678",
   "metadata": {},
   "source": [
    "Question 3:- Compare and contrast mutable and immutable objects in Python with examples?\n",
    "\n",
    "\"Mutable\", as the word suggests 'to change'. Therefore, if an object or a container could be changed, it is known as a mutable object and if not, is known as an \"Immutable\" Object.\n",
    "\n",
    "We will consider 2 data containers or objects for the same:-\n",
    "1. Strings\n",
    "2. List"
   ]
  },
  {
   "cell_type": "code",
   "execution_count": 10,
   "id": "ada23f51-bf1f-4df1-b2b8-c2c90ffa75cb",
   "metadata": {},
   "outputs": [
    {
     "data": {
      "text/plain": [
       "'Dipanshu'"
      ]
     },
     "execution_count": 10,
     "metadata": {},
     "output_type": "execute_result"
    }
   ],
   "source": [
    "a=\"Dipanshu\"\n",
    "a"
   ]
  },
  {
   "cell_type": "code",
   "execution_count": 11,
   "id": "d6f3e34c-73cc-49a2-a564-65ba3baa7603",
   "metadata": {},
   "outputs": [
    {
     "data": {
      "text/plain": [
       "'D'"
      ]
     },
     "execution_count": 11,
     "metadata": {},
     "output_type": "execute_result"
    }
   ],
   "source": [
    "a[0]"
   ]
  },
  {
   "cell_type": "code",
   "execution_count": 13,
   "id": "3d50d56d-69b2-4e74-bc2a-535f6c9aa903",
   "metadata": {},
   "outputs": [
    {
     "ename": "TypeError",
     "evalue": "'str' object does not support item assignment",
     "output_type": "error",
     "traceback": [
      "\u001b[0;31m---------------------------------------------------------------------------\u001b[0m",
      "\u001b[0;31mTypeError\u001b[0m                                 Traceback (most recent call last)",
      "Cell \u001b[0;32mIn[13], line 1\u001b[0m\n\u001b[0;32m----> 1\u001b[0m \u001b[43ma\u001b[49m\u001b[43m[\u001b[49m\u001b[38;5;241;43m0\u001b[39;49m\u001b[43m]\u001b[49m\u001b[38;5;241m=\u001b[39m\u001b[38;5;124m\"\u001b[39m\u001b[38;5;124mS\u001b[39m\u001b[38;5;124m\"\u001b[39m\n\u001b[1;32m      2\u001b[0m a\n",
      "\u001b[0;31mTypeError\u001b[0m: 'str' object does not support item assignment"
     ]
    }
   ],
   "source": [
    "a[0]=\"S\"\n",
    "a"
   ]
  },
  {
   "cell_type": "raw",
   "id": "46014a7f-7106-4a15-81ae-f669b66b168c",
   "metadata": {},
   "source": [
    "Therefore, we can see that the strings are immutable as it is written that the 'str' object does not support item assignment."
   ]
  },
  {
   "cell_type": "code",
   "execution_count": 14,
   "id": "0a968ef7-d00b-4b7a-bf99-bfe3001e261a",
   "metadata": {},
   "outputs": [
    {
     "data": {
      "text/plain": [
       "'Dipanshu'"
      ]
     },
     "execution_count": 14,
     "metadata": {},
     "output_type": "execute_result"
    }
   ],
   "source": [
    "#Lists\n",
    "a=[1,2,\"Dipanshu\",\"Raina\"]\n",
    "a[2]"
   ]
  },
  {
   "cell_type": "code",
   "execution_count": 15,
   "id": "8c58ace5-193b-4ec9-8222-ca0d8eafb2d3",
   "metadata": {},
   "outputs": [
    {
     "data": {
      "text/plain": [
       "[1, 2, 'Hello', 'Raina']"
      ]
     },
     "execution_count": 15,
     "metadata": {},
     "output_type": "execute_result"
    }
   ],
   "source": [
    "a[2]=\"Hello\"\n",
    "a"
   ]
  },
  {
   "cell_type": "raw",
   "id": "3d3b573d-ac01-4c7c-8372-3feae21778cf",
   "metadata": {},
   "source": [
    "Therefore, lists are mutable as lists can be changed."
   ]
  },
  {
   "cell_type": "markdown",
   "id": "470f1577-81e7-46f9-844f-69f862ca5e48",
   "metadata": {},
   "source": [
    "Question 4:- Discuss the different types of operators in Python and provide examples of how they are used?\n",
    "\n",
    "There are different types of operators in python which can be used to perform specific operations on variables.\n",
    "The different types of operators in Python are as follows:-\n",
    "1. Arithmetic Operators\n",
    "2. Comparison Operators\n",
    "3. Logical Operators\n",
    "4. Assignment Operators\n",
    "5. Membership Operators\n",
    "6. Identity Operators\n",
    "7. Bitwise Operators"
   ]
  },
  {
   "cell_type": "code",
   "execution_count": 1,
   "id": "d9611c56-f22d-4d00-93bb-0c8c728317dc",
   "metadata": {},
   "outputs": [
    {
     "data": {
      "text/plain": [
       "5"
      ]
     },
     "execution_count": 1,
     "metadata": {},
     "output_type": "execute_result"
    }
   ],
   "source": [
    "#Arithmetic Operators\n",
    "#Addition\n",
    "a=2\n",
    "b=3\n",
    "c=a+b\n",
    "c"
   ]
  },
  {
   "cell_type": "code",
   "execution_count": 2,
   "id": "b89cc8b7-b775-4a94-b917-4382b63f57ad",
   "metadata": {},
   "outputs": [
    {
     "data": {
      "text/plain": [
       "2"
      ]
     },
     "execution_count": 2,
     "metadata": {},
     "output_type": "execute_result"
    }
   ],
   "source": [
    "#Subtraction\n",
    "a=3\n",
    "b=1\n",
    "c=a-b\n",
    "c"
   ]
  },
  {
   "cell_type": "code",
   "execution_count": 3,
   "id": "d7822bfc-614f-4527-a7e1-e58fe7937445",
   "metadata": {},
   "outputs": [
    {
     "data": {
      "text/plain": [
       "5.0"
      ]
     },
     "execution_count": 3,
     "metadata": {},
     "output_type": "execute_result"
    }
   ],
   "source": [
    "#Division\n",
    "a=10\n",
    "b=2\n",
    "c=a/b\n",
    "c"
   ]
  },
  {
   "cell_type": "code",
   "execution_count": 4,
   "id": "0eeadc2a-1f6c-4ba8-b93a-42a602f92cdd",
   "metadata": {},
   "outputs": [
    {
     "data": {
      "text/plain": [
       "0"
      ]
     },
     "execution_count": 4,
     "metadata": {},
     "output_type": "execute_result"
    }
   ],
   "source": [
    "#Modulus\n",
    "a=10\n",
    "b=2\n",
    "a%b"
   ]
  },
  {
   "cell_type": "code",
   "execution_count": 5,
   "id": "d10ba31e-75cb-476f-951d-be417628626f",
   "metadata": {},
   "outputs": [
    {
     "data": {
      "text/plain": [
       "2"
      ]
     },
     "execution_count": 5,
     "metadata": {},
     "output_type": "execute_result"
    }
   ],
   "source": [
    "a=1\n",
    "b=2\n",
    "a*b"
   ]
  },
  {
   "cell_type": "code",
   "execution_count": 6,
   "id": "9563b9c8-a54c-40cd-a628-0bc70b260dea",
   "metadata": {},
   "outputs": [
    {
     "data": {
      "text/plain": [
       "3"
      ]
     },
     "execution_count": 6,
     "metadata": {},
     "output_type": "execute_result"
    }
   ],
   "source": [
    "# Floor division\n",
    "a= 10\n",
    "b= 3\n",
    "a//b"
   ]
  },
  {
   "cell_type": "code",
   "execution_count": 7,
   "id": "37d7f75f-d279-4496-8b51-5cb0084f933c",
   "metadata": {},
   "outputs": [
    {
     "data": {
      "text/plain": [
       "9"
      ]
     },
     "execution_count": 7,
     "metadata": {},
     "output_type": "execute_result"
    }
   ],
   "source": [
    "#Power\n",
    "a= 3**2\n",
    "a"
   ]
  },
  {
   "cell_type": "code",
   "execution_count": 8,
   "id": "6665d1cc-5cae-43c7-9136-da86e45dd483",
   "metadata": {},
   "outputs": [
    {
     "data": {
      "text/plain": [
       "True"
      ]
     },
     "execution_count": 8,
     "metadata": {},
     "output_type": "execute_result"
    }
   ],
   "source": [
    "# Comparison Operators\n",
    "#Used to compare values and therefore returns boolean values.\n",
    "# Equal to\n",
    "a=2\n",
    "b=2\n",
    "a==b"
   ]
  },
  {
   "cell_type": "code",
   "execution_count": 9,
   "id": "6ebb542e-b2c3-4b2c-bfb9-bd2495a2a597",
   "metadata": {},
   "outputs": [
    {
     "data": {
      "text/plain": [
       "True"
      ]
     },
     "execution_count": 9,
     "metadata": {},
     "output_type": "execute_result"
    }
   ],
   "source": [
    "#Not equal to\n",
    "a=2\n",
    "b=3\n",
    "a!=b"
   ]
  },
  {
   "cell_type": "code",
   "execution_count": 10,
   "id": "07a351db-b578-41ed-97af-3c14a9dc6a8f",
   "metadata": {},
   "outputs": [
    {
     "data": {
      "text/plain": [
       "True"
      ]
     },
     "execution_count": 10,
     "metadata": {},
     "output_type": "execute_result"
    }
   ],
   "source": [
    "#Greater than\n",
    "a=5\n",
    "b=4\n",
    "a>b"
   ]
  },
  {
   "cell_type": "code",
   "execution_count": 11,
   "id": "c1939c1e-5066-472d-af46-5d7a720be884",
   "metadata": {},
   "outputs": [
    {
     "data": {
      "text/plain": [
       "True"
      ]
     },
     "execution_count": 11,
     "metadata": {},
     "output_type": "execute_result"
    }
   ],
   "source": [
    "#Less than\n",
    "a=4\n",
    "b=3\n",
    "a>b"
   ]
  },
  {
   "cell_type": "code",
   "execution_count": 12,
   "id": "6d8eba75-7b68-4030-9ea9-cb7846511fbd",
   "metadata": {},
   "outputs": [
    {
     "data": {
      "text/plain": [
       "True"
      ]
     },
     "execution_count": 12,
     "metadata": {},
     "output_type": "execute_result"
    }
   ],
   "source": [
    "#Greater than equal to\n",
    "a=5\n",
    "b=5\n",
    "a>=b"
   ]
  },
  {
   "cell_type": "code",
   "execution_count": 13,
   "id": "e9ab2084-a24f-4fd3-b94b-6d7af2df96ca",
   "metadata": {},
   "outputs": [
    {
     "data": {
      "text/plain": [
       "False"
      ]
     },
     "execution_count": 13,
     "metadata": {},
     "output_type": "execute_result"
    }
   ],
   "source": [
    "#Less than or equal to\n",
    "a=5\n",
    "b=0\n",
    "a<=b"
   ]
  },
  {
   "cell_type": "raw",
   "id": "777573bc-c19e-4b45-9a54-dc6df2017a93",
   "metadata": {},
   "source": [
    " Logical Operators\n",
    "Used to combine different statements such as Conditionals to derive output.It also gives a boolean value as output."
   ]
  },
  {
   "cell_type": "code",
   "execution_count": 15,
   "id": "9be30b2b-da7a-4c33-9d6f-fd9f0d365554",
   "metadata": {},
   "outputs": [
    {
     "name": "stdout",
     "output_type": "stream",
     "text": [
      "One or both are not equal\n"
     ]
    }
   ],
   "source": [
    "#And Operator:- Both conditions must be true\n",
    "a=3\n",
    "b=3\n",
    "if a==7 and b==6:\n",
    "    print(\"Correct\")\n",
    "else:\n",
    "    print(\"One or both are not equal\")"
   ]
  },
  {
   "cell_type": "code",
   "execution_count": 16,
   "id": "1b8898df-89eb-4230-bd68-5173bd608325",
   "metadata": {},
   "outputs": [
    {
     "name": "stdout",
     "output_type": "stream",
     "text": [
      "Correct\n"
     ]
    }
   ],
   "source": [
    "#OR operator:- Returns True if any condition is true\n",
    "a=3\n",
    "b=3\n",
    "if a==7 or b==3:\n",
    "    print(\"Correct\")\n",
    "else:\n",
    "    print(\"One or both are not equal\")"
   ]
  },
  {
   "cell_type": "code",
   "execution_count": 17,
   "id": "07ea299e-f963-476f-8f33-1bc007b18f1e",
   "metadata": {},
   "outputs": [
    {
     "data": {
      "text/plain": [
       "False"
      ]
     },
     "execution_count": 17,
     "metadata": {},
     "output_type": "execute_result"
    }
   ],
   "source": [
    "#not operator\n",
    "a=3\n",
    "not a==3"
   ]
  },
  {
   "cell_type": "raw",
   "id": "8f302db4-f8c8-4156-9201-d97785ad3bd9",
   "metadata": {},
   "source": [
    "Assignment Operators:- Used to assign a value to a variable\n"
   ]
  },
  {
   "cell_type": "code",
   "execution_count": 22,
   "id": "bcb7a94a-ad6c-4ee9-8e67-f1b8154b2480",
   "metadata": {},
   "outputs": [
    {
     "data": {
      "text/plain": [
       "10"
      ]
     },
     "execution_count": 22,
     "metadata": {},
     "output_type": "execute_result"
    }
   ],
   "source": [
    "a=10 # 10 value is assigned to the variable 'a'\n",
    "a+=1 # a=a+10\n",
    "a"
   ]
  },
  {
   "cell_type": "code",
   "execution_count": 23,
   "id": "a3d659ba-6130-48b4-bd94-69ed19f239fe",
   "metadata": {},
   "outputs": [
    {
     "data": {
      "text/plain": [
       "9"
      ]
     },
     "execution_count": 23,
     "metadata": {},
     "output_type": "execute_result"
    }
   ],
   "source": [
    "a-=1\n",
    "a"
   ]
  },
  {
   "cell_type": "raw",
   "id": "e9f2261a-8f27-410d-a762-1279351a1d88",
   "metadata": {},
   "source": [
    "Membership Operators:- Returns whether a particular thing(part of parent) is present in the parent or not. "
   ]
  },
  {
   "cell_type": "code",
   "execution_count": 31,
   "id": "da4ecf05-87ef-4379-86de-44b3024e96fa",
   "metadata": {},
   "outputs": [
    {
     "data": {
      "text/plain": [
       "True"
      ]
     },
     "execution_count": 31,
     "metadata": {},
     "output_type": "execute_result"
    }
   ],
   "source": [
    "a=\"Dipanshu\"\n",
    "\"D\" in a"
   ]
  },
  {
   "cell_type": "code",
   "execution_count": 30,
   "id": "16a0836b-22b9-4efa-822c-0a2ae559ce13",
   "metadata": {},
   "outputs": [
    {
     "data": {
      "text/plain": [
       "False"
      ]
     },
     "execution_count": 30,
     "metadata": {},
     "output_type": "execute_result"
    }
   ],
   "source": [
    "\"s\"not in a"
   ]
  },
  {
   "cell_type": "raw",
   "id": "f378d8ff-eec5-486b-86b7-5faeca3a2050",
   "metadata": {},
   "source": [
    "Identity Operators:- Indicates whether the 2 variables are pointing to the same memory location or not."
   ]
  },
  {
   "cell_type": "code",
   "execution_count": 32,
   "id": "c1b9d19d-e811-45a3-9cee-5b49ae19ba86",
   "metadata": {},
   "outputs": [
    {
     "data": {
      "text/plain": [
       "False"
      ]
     },
     "execution_count": 32,
     "metadata": {},
     "output_type": "execute_result"
    }
   ],
   "source": [
    "a=2\n",
    "b=3\n",
    "a is b"
   ]
  },
  {
   "cell_type": "code",
   "execution_count": 33,
   "id": "be467483-fa85-44ce-835f-03b68a91df53",
   "metadata": {},
   "outputs": [
    {
     "data": {
      "text/plain": [
       "True"
      ]
     },
     "execution_count": 33,
     "metadata": {},
     "output_type": "execute_result"
    }
   ],
   "source": [
    "a=1 # Pointing to the same memory location in the RAM.\n",
    "b=1\n",
    "a is b"
   ]
  },
  {
   "cell_type": "code",
   "execution_count": 34,
   "id": "0296e07f-ee15-4244-84ad-c0464bf54a2a",
   "metadata": {},
   "outputs": [
    {
     "data": {
      "text/plain": [
       "True"
      ]
     },
     "execution_count": 34,
     "metadata": {},
     "output_type": "execute_result"
    }
   ],
   "source": [
    "a=2\n",
    "b=3\n",
    "a is not b"
   ]
  },
  {
   "cell_type": "raw",
   "id": "10ea008b-ca91-4ecd-aa08-655b55e1eef3",
   "metadata": {},
   "source": [
    "Bitwise Operators:- Used to perform various calculations upon changing the numbers(integers) to their binary values."
   ]
  },
  {
   "cell_type": "code",
   "execution_count": 35,
   "id": "4e269434-e711-4b18-a22b-de3f7b8ea4ed",
   "metadata": {},
   "outputs": [
    {
     "ename": "TypeError",
     "evalue": "'float' object cannot be interpreted as an integer",
     "output_type": "error",
     "traceback": [
      "\u001b[0;31m---------------------------------------------------------------------------\u001b[0m",
      "\u001b[0;31mTypeError\u001b[0m                                 Traceback (most recent call last)",
      "Cell \u001b[0;32mIn[35], line 2\u001b[0m\n\u001b[1;32m      1\u001b[0m a\u001b[38;5;241m=\u001b[39m\u001b[38;5;241m1.3\u001b[39m\n\u001b[0;32m----> 2\u001b[0m \u001b[38;5;28;43mbin\u001b[39;49m\u001b[43m(\u001b[49m\u001b[43ma\u001b[49m\u001b[43m)\u001b[49m\n",
      "\u001b[0;31mTypeError\u001b[0m: 'float' object cannot be interpreted as an integer"
     ]
    }
   ],
   "source": [
    "a=1.3 # Float cannot show binary value\n",
    "bin(a)"
   ]
  },
  {
   "cell_type": "code",
   "execution_count": 36,
   "id": "077e34ca-6e34-4ebf-8906-45a88d6ced8f",
   "metadata": {},
   "outputs": [
    {
     "data": {
      "text/plain": [
       "10"
      ]
     },
     "execution_count": 36,
     "metadata": {},
     "output_type": "execute_result"
    }
   ],
   "source": [
    "# Bitwise AND(&) operator\n",
    "10&10"
   ]
  },
  {
   "cell_type": "code",
   "execution_count": 37,
   "id": "e89e436f-c008-4bf9-8059-4d61ac640592",
   "metadata": {},
   "outputs": [
    {
     "data": {
      "text/plain": [
       "'0b1010'"
      ]
     },
     "execution_count": 37,
     "metadata": {},
     "output_type": "execute_result"
    }
   ],
   "source": [
    "bin(10)"
   ]
  },
  {
   "cell_type": "code",
   "execution_count": 39,
   "id": "8d575a20-4f75-46e0-9bee-a2015c332486",
   "metadata": {},
   "outputs": [
    {
     "data": {
      "text/plain": [
       "7"
      ]
     },
     "execution_count": 39,
     "metadata": {},
     "output_type": "execute_result"
    }
   ],
   "source": [
    "# OR bitwise operator\n",
    "3|5"
   ]
  },
  {
   "cell_type": "code",
   "execution_count": 40,
   "id": "f1e8458d-0a13-488d-a8be-d937afb80714",
   "metadata": {},
   "outputs": [
    {
     "data": {
      "text/plain": [
       "'0b11'"
      ]
     },
     "execution_count": 40,
     "metadata": {},
     "output_type": "execute_result"
    }
   ],
   "source": [
    "bin(3)"
   ]
  },
  {
   "cell_type": "code",
   "execution_count": 41,
   "id": "64443d60-0933-4b28-914b-731fa75235e8",
   "metadata": {},
   "outputs": [
    {
     "data": {
      "text/plain": [
       "'0b101'"
      ]
     },
     "execution_count": 41,
     "metadata": {},
     "output_type": "execute_result"
    }
   ],
   "source": [
    "bin(5)"
   ]
  },
  {
   "cell_type": "code",
   "execution_count": 42,
   "id": "a1bcc7e7-e3df-41d4-bd62-fd70dde87ee5",
   "metadata": {},
   "outputs": [
    {
     "data": {
      "text/plain": [
       "'0b111'"
      ]
     },
     "execution_count": 42,
     "metadata": {},
     "output_type": "execute_result"
    }
   ],
   "source": [
    "bin(7)"
   ]
  },
  {
   "cell_type": "code",
   "execution_count": 43,
   "id": "cfddf8b2-e958-4a0f-afbc-f0d8788aed86",
   "metadata": {},
   "outputs": [
    {
     "data": {
      "text/plain": [
       "-4"
      ]
     },
     "execution_count": 43,
     "metadata": {},
     "output_type": "execute_result"
    }
   ],
   "source": [
    "#Negation(~) Bitwise operator:- Returns one number less with a negative sign\n",
    "~3\n"
   ]
  },
  {
   "cell_type": "code",
   "execution_count": 44,
   "id": "becbf362-4041-4523-98e9-a72474ed5d3c",
   "metadata": {},
   "outputs": [
    {
     "data": {
      "text/plain": [
       "6"
      ]
     },
     "execution_count": 44,
     "metadata": {},
     "output_type": "execute_result"
    }
   ],
   "source": [
    "'''Bitwise XOR(^) Operator:- Performs XOR operation on 2 variables and returns the corresponding output.\n",
    "                           XOR operator returns 1 when exactlyone operand is 1.'''\n",
    "5^3"
   ]
  },
  {
   "cell_type": "code",
   "execution_count": 45,
   "id": "db0b0ec4-54e2-4d61-9aae-15df4c8556c4",
   "metadata": {},
   "outputs": [
    {
     "data": {
      "text/plain": [
       "280"
      ]
     },
     "execution_count": 45,
     "metadata": {},
     "output_type": "execute_result"
    }
   ],
   "source": [
    "#Left shift bitwise operator(<<):- Shifts the binary number to the left adding the given number of 0's\n",
    "35<<3"
   ]
  },
  {
   "cell_type": "code",
   "execution_count": 46,
   "id": "338d352b-f3ed-4a92-bea7-78130976603f",
   "metadata": {},
   "outputs": [
    {
     "data": {
      "text/plain": [
       "'0b100011'"
      ]
     },
     "execution_count": 46,
     "metadata": {},
     "output_type": "execute_result"
    }
   ],
   "source": [
    "bin(35)"
   ]
  },
  {
   "cell_type": "code",
   "execution_count": 47,
   "id": "e7d69fda-20d9-4322-992d-10c600a5d339",
   "metadata": {},
   "outputs": [
    {
     "data": {
      "text/plain": [
       "'0b100011000'"
      ]
     },
     "execution_count": 47,
     "metadata": {},
     "output_type": "execute_result"
    }
   ],
   "source": [
    "bin(280) # Adds 3 zeros at the right and shifts to the left"
   ]
  },
  {
   "cell_type": "code",
   "execution_count": 48,
   "id": "c8fead31-5fa6-4b31-9c17-8b98bbf3c70e",
   "metadata": {},
   "outputs": [
    {
     "data": {
      "text/plain": [
       "35"
      ]
     },
     "execution_count": 48,
     "metadata": {},
     "output_type": "execute_result"
    }
   ],
   "source": [
    "# Right Shift(>>):- Removes the specified number of digits from the right.\n",
    "280>>3"
   ]
  },
  {
   "cell_type": "raw",
   "id": "ff5c4012-6ac1-4ce2-8788-50480fac4754",
   "metadata": {},
   "source": [
    "Question 5:- Explain the concept of type casting in Python with examples?\n",
    "\n",
    "Typecasting is the process of converting the datatype of a variable to other.\n",
    "Typecasting is of 2 types:\n",
    "\n",
    "1. Implicit Type Casting\n",
    "2. Explicit Type Casting"
   ]
  },
  {
   "cell_type": "code",
   "execution_count": 49,
   "id": "a778d0db-88b8-4ef0-9095-5d2b89533c9f",
   "metadata": {},
   "outputs": [
    {
     "data": {
      "text/plain": [
       "str"
      ]
     },
     "execution_count": 49,
     "metadata": {},
     "output_type": "execute_result"
    }
   ],
   "source": [
    "#Implicit Type Casting:- To change the datatype manually by the programmer.\n",
    "a=\"2\"\n",
    "type(a)"
   ]
  },
  {
   "cell_type": "code",
   "execution_count": 53,
   "id": "c08c0b0f-d954-4e47-95b6-0279b375136e",
   "metadata": {},
   "outputs": [
    {
     "data": {
      "text/plain": [
       "2"
      ]
     },
     "execution_count": 53,
     "metadata": {},
     "output_type": "execute_result"
    }
   ],
   "source": [
    "int(a)"
   ]
  },
  {
   "cell_type": "code",
   "execution_count": 56,
   "id": "03aa3db0-f115-462c-a4df-8ba654bc9c18",
   "metadata": {},
   "outputs": [
    {
     "ename": "TypeError",
     "evalue": "can only concatenate str (not \"int\") to str",
     "output_type": "error",
     "traceback": [
      "\u001b[0;31m---------------------------------------------------------------------------\u001b[0m",
      "\u001b[0;31mTypeError\u001b[0m                                 Traceback (most recent call last)",
      "Cell \u001b[0;32mIn[56], line 1\u001b[0m\n\u001b[0;32m----> 1\u001b[0m \u001b[38;5;124;43m\"\u001b[39;49m\u001b[38;5;124;43m3\u001b[39;49m\u001b[38;5;124;43m\"\u001b[39;49m\u001b[38;5;241;43m+\u001b[39;49m\u001b[38;5;241;43m5\u001b[39;49m\n",
      "\u001b[0;31mTypeError\u001b[0m: can only concatenate str (not \"int\") to str"
     ]
    }
   ],
   "source": [
    "\"3\"+5"
   ]
  },
  {
   "cell_type": "code",
   "execution_count": 60,
   "id": "90140cfd-f4a2-4689-80da-4759e8d8c27d",
   "metadata": {},
   "outputs": [
    {
     "data": {
      "text/plain": [
       "8"
      ]
     },
     "execution_count": 60,
     "metadata": {},
     "output_type": "execute_result"
    }
   ],
   "source": [
    "int(\"3\")+5"
   ]
  },
  {
   "cell_type": "code",
   "execution_count": 61,
   "id": "7f18f639-9528-48df-9183-c8291115d3f4",
   "metadata": {},
   "outputs": [
    {
     "data": {
      "text/plain": [
       "int"
      ]
     },
     "execution_count": 61,
     "metadata": {},
     "output_type": "execute_result"
    }
   ],
   "source": [
    "#Explicit Type Casting:- Python is so smart that it determines the datatype of a variable on its own.\n",
    "a=3\n",
    "type(a) # Python will itself determine the datatype of a as int."
   ]
  },
  {
   "cell_type": "code",
   "execution_count": 62,
   "id": "83acf872-96fb-4f12-8780-2a6a6bd3e4c8",
   "metadata": {},
   "outputs": [
    {
     "data": {
      "text/plain": [
       "str"
      ]
     },
     "execution_count": 62,
     "metadata": {},
     "output_type": "execute_result"
    }
   ],
   "source": [
    "a=\"string\"\n",
    "type(a)"
   ]
  },
  {
   "cell_type": "raw",
   "id": "56aaad1d-ccf0-409c-8fcd-524cd7de01a2",
   "metadata": {},
   "source": [
    "Question 6 :- How do conditional statements work in Python? Illustrate with examples?\n",
    "\n",
    "Python conditional statements are the statements which make decisions based on the control flow. The flow of the statements is based on the outcome of the situation."
   ]
  },
  {
   "cell_type": "code",
   "execution_count": 73,
   "id": "efc43ba6-5128-4d90-9802-292b529af5f9",
   "metadata": {},
   "outputs": [
    {
     "name": "stdout",
     "output_type": "stream",
     "text": [
      "The number is equal to 2\n"
     ]
    }
   ],
   "source": [
    "# if else and elif statements\n",
    "a=2\n",
    "if a==2:\n",
    "    print(\"The number is equal to 2\")\n",
    "else:\n",
    "    print(\"The number is not equal to 2\")"
   ]
  },
  {
   "cell_type": "code",
   "execution_count": 74,
   "id": "2b1466a6-93bd-425a-a0bb-e28eb15d1b27",
   "metadata": {},
   "outputs": [
    {
     "name": "stdout",
     "output_type": "stream",
     "text": [
      "The mark is equal to 80\n"
     ]
    }
   ],
   "source": [
    "Marks=80\n",
    "if Marks>80:\n",
    "    print(\"The mark is greater than 80\")\n",
    "elif Marks<80:\n",
    "    print(\"The mark is less than 80\")\n",
    "else:\n",
    "   print(\"The mark is equal to 80\")"
   ]
  },
  {
   "cell_type": "raw",
   "id": "59dcabd5-5d56-414b-9294-1d6e25441570",
   "metadata": {},
   "source": [
    "The 'if' statement is executed first and if the condition matches, the 'if' block is executed and if not, the 'else' block is executed."
   ]
  },
  {
   "cell_type": "raw",
   "id": "f3596e4a-2155-457a-81ca-16c60dfe3176",
   "metadata": {},
   "source": [
    "Question 7:- Describe the different types of loops in Python and their use cases with examples.\n",
    "\n",
    "In Python, \"Loops\" are used to execute a block of code untill and unless a condition is met and when met, the loop is exited.\n",
    "The 'For Loop' is used to iterate over the sequence of containers such as string, list, tuple etc. "
   ]
  },
  {
   "cell_type": "code",
   "execution_count": 1,
   "id": "4a0a328f-08c6-4d0c-8643-b2174dda94a8",
   "metadata": {},
   "outputs": [
    {
     "name": "stdout",
     "output_type": "stream",
     "text": [
      "D\n",
      "i\n",
      "p\n",
      "a\n",
      "n\n",
      "s\n",
      "h\n",
      "u\n"
     ]
    }
   ],
   "source": [
    "#Iterating over a string\n",
    "a=\"Dipanshu\"\n",
    "for i in a:\n",
    "    print(i)"
   ]
  },
  {
   "cell_type": "code",
   "execution_count": 5,
   "id": "0cc4b7b7-3ba4-4e01-a4a2-567d7ad95d07",
   "metadata": {},
   "outputs": [
    {
     "name": "stdout",
     "output_type": "stream",
     "text": [
      "1\n",
      "Ajay\n",
      "Dipanshu\n",
      "2\n",
      "3\n"
     ]
    }
   ],
   "source": [
    "#Iterating over a list\n",
    "a=[1,\"Ajay\",\"Dipanshu\",2,3]\n",
    "for i in a:\n",
    "    print(i)"
   ]
  },
  {
   "cell_type": "raw",
   "id": "2f9e2a01-a1a1-4f6f-b658-1d81c5cf546b",
   "metadata": {},
   "source": [
    "While Loop:- A while loop is used to execute a block of code as long as the condition is true. It is used when the number of iterations are not known."
   ]
  },
  {
   "cell_type": "code",
   "execution_count": 1,
   "id": "9fea1ac5-96ce-4ffc-9592-60bda54bbfae",
   "metadata": {},
   "outputs": [
    {
     "name": "stdout",
     "output_type": "stream",
     "text": [
      "0\n",
      "1\n",
      "2\n",
      "3\n",
      "4\n"
     ]
    }
   ],
   "source": [
    "count =0\n",
    "while count<5:\n",
    "    print(count)\n",
    "    count+=1"
   ]
  },
  {
   "cell_type": "code",
   "execution_count": 4,
   "id": "1c9596e4-e489-4057-b383-ce96be9538cc",
   "metadata": {},
   "outputs": [
    {
     "name": "stdout",
     "output_type": "stream",
     "text": [
      "0\n",
      "1\n",
      "2\n",
      "3\n",
      "4\n"
     ]
    }
   ],
   "source": [
    "# Using break statement in while loop\n",
    "count= 0\n",
    "while count<=5:\n",
    "    if count==5:\n",
    "        break\n",
    "    print(count)\n",
    "    count+=1"
   ]
  },
  {
   "cell_type": "code",
   "execution_count": null,
   "id": "11dc8d2d-9f94-4b70-90ea-110c9ce70034",
   "metadata": {},
   "outputs": [],
   "source": [
    "a=0 \n",
    "while a<=4:\n",
    "    if a==3:\n",
    "        continue\n",
    "    print(a)\n",
    "     a+=1"
   ]
  },
  {
   "cell_type": "code",
   "execution_count": null,
   "id": "52dad2f1-7dae-4eb6-8873-5b3e0a2ea92e",
   "metadata": {},
   "outputs": [],
   "source": []
  }
 ],
 "metadata": {
  "kernelspec": {
   "display_name": "Python 3 (ipykernel)",
   "language": "python",
   "name": "python3"
  },
  "language_info": {
   "codemirror_mode": {
    "name": "ipython",
    "version": 3
   },
   "file_extension": ".py",
   "mimetype": "text/x-python",
   "name": "python",
   "nbconvert_exporter": "python",
   "pygments_lexer": "ipython3",
   "version": "3.10.8"
  }
 },
 "nbformat": 4,
 "nbformat_minor": 5
}
